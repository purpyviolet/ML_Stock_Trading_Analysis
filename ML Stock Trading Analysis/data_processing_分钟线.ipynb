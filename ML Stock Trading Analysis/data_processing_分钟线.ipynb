{
 "cells": [
  {
   "cell_type": "code",
   "execution_count": 4,
   "id": "e54d0d68-f058-4014-aaa4-60b4ba526d75",
   "metadata": {},
   "outputs": [],
   "source": [
    "import openpyxl\n",
    "\n",
    "# 创建一个新的Excel工作簿\n",
    "workbook = openpyxl.Workbook()\n",
    "worksheet = workbook.active\n",
    "\n",
    "# 定义并写入标题行\n",
    "headers = ['日期', '时间', '开盘', '最高', '最低', '收盘', '成交量', '成交额']\n",
    "worksheet.append(headers)\n",
    "\n",
    "# 打开并读取TXT文件\n",
    "with open('HSI_5分钟线.txt', 'r', encoding='utf-8', errors='ignore') as file:\n",
    "    lines = file.readlines()\n",
    "\n",
    "for line in lines[2:]:  # 从第三行开始（索引为2）\n",
    "    columns = line.strip().split('\\t')\n",
    "    row_data = []\n",
    "    for cell_value in columns:\n",
    "        try:\n",
    "            # 尝试将单元格的值转换为浮点数\n",
    "            cell_value = float(cell_value)\n",
    "        except ValueError:\n",
    "            # 如果转换失败，保持原样（可能是日期或文本）\n",
    "            pass\n",
    "        # 添加数据到行数据中\n",
    "        row_data.append(cell_value)\n",
    "    # 将一整行数据写入工作表\n",
    "    worksheet.append(row_data)\n",
    "\n",
    "# 保存Excel文件\n",
    "workbook.save('HSI_5分钟线.xlsx')\n"
   ]
  },
  {
   "cell_type": "code",
   "execution_count": null,
   "id": "d9fe9ee3-e38e-4e2d-965d-1dc217162dc1",
   "metadata": {},
   "outputs": [],
   "source": []
  }
 ],
 "metadata": {
  "kernelspec": {
   "display_name": "Python 3 (ipykernel)",
   "language": "python",
   "name": "python3"
  },
  "language_info": {
   "codemirror_mode": {
    "name": "ipython",
    "version": 3
   },
   "file_extension": ".py",
   "mimetype": "text/x-python",
   "name": "python",
   "nbconvert_exporter": "python",
   "pygments_lexer": "ipython3",
   "version": "3.11.5"
  }
 },
 "nbformat": 4,
 "nbformat_minor": 5
}
