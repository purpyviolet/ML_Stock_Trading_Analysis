{
 "cells": [
  {
   "cell_type": "code",
   "execution_count": 1,
   "id": "274b0e04-281d-485d-b6f2-f3cdbfe52ed4",
   "metadata": {},
   "outputs": [],
   "source": [
    "import xlwt\n",
    "\n",
    "# 创建一个新的Excel工作簿和工作表\n",
    "workbook = xlwt.Workbook()\n",
    "worksheet = workbook.add_sheet('Sheet1')\n",
    "\n",
    "# 定义并写入标题行\n",
    "headers = ['日期', '开盘', '最高', '最低', '收盘', '成交量', '成交额']\n",
    "for col_num, header in enumerate(headers):\n",
    "    worksheet.write(0, col_num, header)\n",
    "\n",
    "# 打开并读取TXT文件\n",
    "with open('HSI_日线数据.txt', 'r', encoding='utf-8', errors='ignore') as file:\n",
    "    lines = file.readlines()\n",
    "\n",
    "for row_num, line in enumerate(lines[1:]):  # 从第二行开始（索引为1）\n",
    "    columns = line.strip().split('\\t')\n",
    "    for col_num, cell_value in enumerate(columns):\n",
    "        try:\n",
    "            # 尝试将单元格的值转换为浮点数\n",
    "            cell_value = float(cell_value)\n",
    "        except ValueError:\n",
    "            # 如果转换失败，保持原样（可能是日期或文本）\n",
    "            pass\n",
    "        # 写入数据，行号加1以留出标题行\n",
    "        worksheet.write(row_num + 1, col_num, cell_value)\n",
    "\n",
    "\n",
    "# 保存Excel文件\n",
    "workbook.save('HSI_日线数据.xls')\n",
    "\n"
   ]
  },
  {
   "cell_type": "code",
   "execution_count": null,
   "id": "95c89d13-4f07-41d9-b567-bc8da728b2d0",
   "metadata": {},
   "outputs": [],
   "source": []
  }
 ],
 "metadata": {
  "kernelspec": {
   "display_name": "Python 3 (ipykernel)",
   "language": "python",
   "name": "python3"
  },
  "language_info": {
   "codemirror_mode": {
    "name": "ipython",
    "version": 3
   },
   "file_extension": ".py",
   "mimetype": "text/x-python",
   "name": "python",
   "nbconvert_exporter": "python",
   "pygments_lexer": "ipython3",
   "version": "3.11.5"
  }
 },
 "nbformat": 4,
 "nbformat_minor": 5
}
